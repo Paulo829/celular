{
  "nbformat": 4,
  "nbformat_minor": 0,
  "metadata": {
    "colab": {
      "provenance": [],
      "authorship_tag": "ABX9TyOO+zNVveZRtobsMgQm+MwN",
      "include_colab_link": true
    },
    "kernelspec": {
      "name": "python3",
      "display_name": "Python 3"
    },
    "language_info": {
      "name": "python"
    }
  },
  "cells": [
    {
      "cell_type": "markdown",
      "metadata": {
        "id": "view-in-github",
        "colab_type": "text"
      },
      "source": [
        "<a href=\"https://colab.research.google.com/github/Paulo829/celular/blob/main/exercicio43.ipynb\" target=\"_parent\"><img src=\"https://colab.research.google.com/assets/colab-badge.svg\" alt=\"Open In Colab\"/></a>"
      ]
    },
    {
      "cell_type": "code",
      "execution_count": null,
      "metadata": {
        "colab": {
          "base_uri": "https://localhost:8080/"
        },
        "id": "6m8XJDopdkym",
        "outputId": "e27e4435-5e69-4485-9fe9-47a12f4ce5dd"
      },
      "outputs": [
        {
          "output_type": "stream",
          "name": "stdout",
          "text": [
            "\n",
            "Sistema de Avaliação de Desempenho\n",
            "1. Adicionar avaliação\n",
            "2. Consultar desempenho de um funcionário\n",
            "3. Sair\n",
            "Escolha uma opção: 3\n",
            "Saindo do sistema...\n"
          ]
        }
      ],
      "source": [
        "#Desenvolva um programa em Python que execute as seguintes operações:\n",
        "#1. Permita que o usuário adicione avaliações de desempenho para diferentes funcionários. Cada avaliação consiste em um nome de funcionário e uma nota de avaliação (de 1 a 10).\n",
        "#2. Armazene as avaliações em uma estrutura de dados adequada.\n",
        "#3. Calcule a média das notas de cada funcionário.\n",
        "#4. Determine o nível de desempenho de cada funcionário baseado na média das notas:\n",
        "#● Excelente: média >= 9\n",
        "#● Muito Bom: 8 <= média < 9\n",
        "#● Bom: 7 <= média < 8\n",
        "#● Regular: 6 <= média < 7\n",
        "#● Insuficiente: média < 6\n",
        "#5. Permita que o usuário consulte a média e o nível de desempenho de um funcionário pelo nome.\n",
        "#6. O programa deve continuar executando até que o usuário decida sair.\n",
        "# Dicionário para armazenar as avaliações: chave é o nome do funcionário e o valor é uma lista de notas\n",
        "avaliacoes = {}# Dicionário para armazenar as avaliações: chave é o nome do funcionário e o valor é uma lista de notas\n",
        "\n",
        "# Função para adicionar uma avaliação\n",
        "def adicionar_avaliacao(nome, nota):\n",
        "    # Se o nome já está no dicionário, adiciona a nota à lista existente.\n",
        "    if nome in avaliacoes:\n",
        "        avaliacoes[nome].append(nota)\n",
        "    # Se é a primeira nota desse funcionário, cria uma nova lista com a nota.\n",
        "    else:\n",
        "        avaliacoes[nome] = [nota]\n",
        "\n",
        "# Função para calcular a média das notas de um funcionário\n",
        "def calcular_media(nome):\n",
        "    # Obtém a lista de notas para o funcionário. Se não houver notas, retorna uma lista vazia.\n",
        "    notas = avaliacoes.get(nome, [])\n",
        "    # Se a lista não estiver vazia, calcula e retorna a média das notas.\n",
        "    if notas:\n",
        "        return sum(notas) / len(notas)\n",
        "    # Se a lista estiver vazia, retorna None indicando que não há notas para calcular.\n",
        "    else:\n",
        "        return None\n",
        "\n",
        "# Função para determinar o nível de desempenho com base na média das notas.\n",
        "def determinar_desempenho(media):\n",
        "    # Usa uma série de condições para classificar o desempenho com base na média.\n",
        "    if media >= 9:\n",
        "        return \"Excelente\"\n",
        "    elif media >= 8:\n",
        "        return \"Muito Bom\"\n",
        "    elif media >= 7:\n",
        "        return \"Bom\"\n",
        "    elif media >= 6:\n",
        "        return \"Regular\"\n",
        "    else:\n",
        "        return \"Insuficiente\"\n",
        "\n",
        "# Loop principal do programa para interagir com o usuário.\n",
        "while True:\n",
        "    # Exibe o menu de opções.\n",
        "    print(\"\\nSistema de Avaliação de Desempenho\")\n",
        "    print(\"1. Adicionar avaliação\")\n",
        "    print(\"2. Consultar desempenho de um funcionário\")\n",
        "    print(\"3. Sair\")\n",
        "    opcao = input(\"Escolha uma opção: \")\n",
        "\n",
        "    # Trata a opção de adicionar uma nova avaliação.\n",
        "    if opcao == \"1\":\n",
        "        nome = input(\"Nome do funcionário: \")\n",
        "        nota = float(input(\"Nota de avaliação (1 a 10): \"))\n",
        "        adicionar_avaliacao(nome, nota)\n",
        "        print(\"Avaliação adicionada.\")\n",
        "\n",
        "    # Trata a opção de consultar o desempenho de um funcionário.\n",
        "    elif opcao == \"2\":\n",
        "        nome = input(\"Nome do funcionário para consulta: \")\n",
        "        media = calcular_media(nome)\n",
        "        if media is not None:\n",
        "            desempenho = determinar_desempenho(media)\n",
        "            print(f\"Média das notas: {media:.2f}, Desempenho: {desempenho}\")\n",
        "        else:\n",
        "            print(\"Funcionário não encontrado.\")\n",
        "\n",
        "    # Opção para sair do programa.\n",
        "    elif opcao == \"3\":\n",
        "        print(\"Saindo do sistema...\")\n",
        "        break\n",
        "    # Caso seja inserida uma opção inválida.\n",
        "    else:\n",
        "        print(\"Opção inválida.\")\n"
      ]
    }
  ]
}